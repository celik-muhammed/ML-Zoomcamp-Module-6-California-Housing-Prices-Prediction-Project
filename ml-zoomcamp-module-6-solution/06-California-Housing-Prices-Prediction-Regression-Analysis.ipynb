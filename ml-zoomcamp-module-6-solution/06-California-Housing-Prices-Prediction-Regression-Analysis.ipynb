{
 "cells": [
  {
   "cell_type": "markdown",
   "id": "2525fb2f",
   "metadata": {},
   "source": [
    "<div style=\"align: center; margin: 0; padding: 0; height: 250px;\">\n",
    "    <br>\n",
    "    <img src=\"https://storage.googleapis.com/kaggle-datasets-images/5227/7876/3d18388d350d2791f4121a232acce097/dataset-cover.jpg\" style=\"display:block; margin:auto; width:65%; height:100%;\">\n",
    "</div><br><br>\n",
    "\n",
    "<div style=\"letter-spacing:normal; opacity:1.;\">\n",
    "<!--   https://xkcd.com/color/rgb/   -->\n",
    "  <p style=\"text-align:center; background-color: lightsalmon; color: Jaguar; border-radius:10px; font-family:monospace; \n",
    "            line-height:1.4; font-size:32px; font-weight:bold; text-transform: uppercase; padding: 9px;\">\n",
    "            <strong>California Housing Prices Dataset</strong></p>  \n",
    "            \n",
    "  <p style=\"text-align:center; background-color:romance; color: Jaguar; border-radius:10px; font-family:monospace; \n",
    "            line-height:1.4; font-size:22px; font-weight:normal; text-transform: capitalize; padding: 5px;\"\n",
    "     >Machine Learning Module: Housing Prices with Decision Tree Regressor, and Ensemble Learning<br><br></p>\n",
    "    \n",
    "  <div style=\"align: center;\">\n",
    "  <table style=\"text-align: center; background-color: romance; color: Jaguar; border-radius: 10px; font-family: monospace;\n",
    "                  line-height:1.4; font-size: 21px; font-weight: normal; text-transform: capitalize; padding: 5px; \n",
    "                  margin: 0 auto;\">\n",
    "    <tr><td style=\"text-align: left; padding-left: 0px;\"\n",
    "            > Decision Tree Regressor Model Training <span style=\"font-size: 16px;\">( Predicting Housing Prices )</span></td></tr>\n",
    "    <tr><td style=\"text-align: left; padding-left: 0px;\"\n",
    "            > Ensemble Learning <span style=\"font-size: 16px;\"> </span></td></tr>\n",
    "  </table>\n",
    "  </div>\n",
    "\n",
    "</div>"
   ]
  },
  {
   "cell_type": "markdown",
   "id": "32a8b00d",
   "metadata": {},
   "source": [
    "**Dataset Info**\n",
    "\n",
    "> https://www.kaggle.com/datasets/camnugent/california-housing-prices\n",
    "\n",
    "**About Dataset**\n",
    "\n",
    "Median house prices for California districts derived from the 1990 census.\n",
    "\n",
    "**Context**\n",
    "\n",
    "This is the dataset used in the second chapter of Aurélien Géron's recent book 'Hands-On Machine learning with Scikit-Learn and TensorFlow'. It serves as an excellent introduction to implementing machine learning algorithms because it requires rudimentary data cleaning, has an easily understandable list of variables and sits at an optimal size between being to toyish and too cumbersome.\n",
    "\n",
    "The data contains information from the 1990 California census. So although it may not help you with predicting current housing prices like the Zillow Zestimate dataset, it does provide an accessible introductory dataset for teaching people about the basics of machine learning.\n",
    "\n",
    "**Content**\n",
    "\n",
    "The data pertains to the houses found in a given California district and some summary stats about them based on the 1990 census data. Be warned the data aren't cleaned so there are some preprocessing steps required! The columns are as follows, their names are pretty self explanitory:\n",
    "\n",
    "longitude\n",
    "\n",
    "latitude\n",
    "\n",
    "housing_median_age\n",
    "\n",
    "total_rooms\n",
    "\n",
    "total_bedrooms\n",
    "\n",
    "population\n",
    "\n",
    "households\n",
    "\n",
    "median_income\n",
    "\n",
    "median_house_value\n",
    "\n",
    "ocean_proximity\n",
    "\n",
    "**Acknowledgements**\n",
    "\n",
    "This data was initially featured in the following paper:\n",
    "\n",
    "Pace, R. Kelley, and Ronald Barry. \"Sparse spatial autoregressions.\" Statistics & Probability Letters 33.3 (1997): 291-297.\n",
    "\n",
    "and I encountered it in 'Hands-On Machine learning with Scikit-Learn and TensorFlow' by Aurélien Géron.\n",
    "\n",
    "Aurélien Géron wrote:\n",
    "\n",
    "This dataset is a modified version of the California Housing dataset available from:\n",
    "\n",
    "[Luís Torgo's page](http://www.dcc.fc.up.pt/~ltorgo/Regression/cal_housing.html) (University of Porto)\n",
    "\n",
    "**Inspiration**\n",
    "\n",
    "See my kernel on machine learning basics in R using this dataset, \n",
    "\n",
    "or venture over to the following link for a python based introductory tutorial: https://github.com/ageron/handson-ml/tree/master/datasets/housing\n",
    "\n",
    "[Download Data](https://raw.githubusercontent.com/alexeygrigorev/datasets/master/housing.csv)"
   ]
  },
  {
   "cell_type": "markdown",
   "id": "dab108c8",
   "metadata": {},
   "source": [
    "**TASK**\n",
    "\n",
    "**Homework**\n",
    "\n",
    "In this homework, we will use the California Housing Prices from [Kaggle](https://www.kaggle.com/datasets/camnugent/california-housing-prices).\n",
    "\n",
    "Here's a wget-able [link](https://raw.githubusercontent.com/alexeygrigorev/datasets/master/housing.csv):\n",
    "\n",
    "```bash\n",
    "wget https://raw.githubusercontent.com/alexeygrigorev/datasets/master/housing.csv\n",
    "```\n",
    "\n",
    "The goal of this homework is to create a regression model for predicting housing prices (column `'median_house_value'`).\n",
    "\n",
    "> Note: sometimes your answer doesn't match one of the options exactly. That's fine. \n",
    "\n",
    "> Select the option that's closest to your solution.\n",
    "\n",
    "\n",
    "\n",
    "**Submit the results**\n",
    "\n",
    "- Submit your results here: https://forms.gle/Qa2SuzG7QGZNCaoV9\n",
    "- If your answer doesn't match options exactly, select the closest one.\n",
    "- You can submit your solution multiple times. In this case, only the last submission will be used\n",
    "\n",
    "**Deadline**\n",
    "\n",
    "The deadline for submitting is October 23 (Monday), 23:00 CET. After that the form will be closed.\n",
    "\n",
    "Questions: https://github.com/DataTalksClub/machine-learning-zoomcamp/blob/master/cohorts/2023/06-trees/homework.md"
   ]
  },
  {
   "cell_type": "markdown",
   "id": "78138c11",
   "metadata": {},
   "source": [
    "<div style=\"letter-spacing:normal; opacity:1.;\">\n",
    "  <h1 style=\"text-align:center; background-color: lightsalmon; color: Jaguar; border-radius:10px; font-family:monospace; border-radius:20px;\n",
    "            line-height:1.4; font-size:32px; font-weight:bold; text-transform: uppercase; padding: 9px;\">\n",
    "            <strong>1. Import Libraries & Ingest Data</strong></h1>   \n",
    "</div>\n",
    "\n",
    "> ⚠️ Not Recommended conda `base` env, work on `venv`\n",
    "\n",
    "- https://docs.conda.io/projects/conda/en/4.6.0/_downloads/52a95608c49671267e40c689e0bc00ca/conda-cheatsheet.pdf\n",
    "\n",
    "```\n",
    "pip freeze > requirements.txt\n",
    "conda list -e > requirements.txt\n",
    "\n",
    "# new conda virtual environment\n",
    "conda create --name \"lin-reg\" python=3.10 jupyter -y\n",
    "conda activate \"lin-reg\"\n",
    "\n",
    "# install all package dependencies\n",
    "pip install -r requirements.txt\n",
    "conda install -c conda-forge --file=requirements.txt      # mostly not work\n",
    "conda install -c conda-forge pandas==2.0.2 -q -y\n",
    "\n",
    "# if The environment is inconsistent, try below\n",
    "conda update -n base -c defaults conda --force-reinstall\n",
    "conda install anaconda --force-reinstall\n",
    "\n",
    "```\n",
    "\n",
    "**You must use the `--no-deps` option in the pip install command in order to avoid bundling dependencies into your conda-package.**\n",
    "\n",
    "If you run pip install without the `--no-deps` option, pip will often install dependencies in your conda recipe and those dependencies will become part of your package. This wastes space in the package and `increases the risk of file overlap`, file clobbering, and broken packages.\n",
    "\n",
    "There might be cases where you want to install a package directly from a local directory or a specific location, without relying on the package indexes. In such situations, you can use the `--no-index` option to tell pip not to look for the package in any indexes.\n",
    "\n",
    "```\n",
    "- command1 & command2  # runs simultaneously\n",
    "- command1 ; command2  # runs sequentially\n",
    "- command1 && command2 # runs sequentially, runs command2 only if command1 succeeds\n",
    "- command1 || command2 # runs sequentially, runs command2 only if command1 fails\n",
    "```"
   ]
  },
  {
   "cell_type": "code",
   "execution_count": 1,
   "id": "12da05a2",
   "metadata": {},
   "outputs": [
    {
     "name": "stdout",
     "output_type": "stream",
     "text": [
      "Python 3.10.12\n"
     ]
    }
   ],
   "source": [
    "!python -V"
   ]
  },
  {
   "cell_type": "code",
   "execution_count": 2,
   "id": "662facc5",
   "metadata": {},
   "outputs": [],
   "source": [
    "# !pip install pyarrow fastparquet orjson pandas matplotlib seaborn tqdm requests scikit-learn xgboost optuna hyperopt\n",
    "# !pip install mlflow prefect prefect-email boto3 prefect-aws joblib evidently\n",
    "# !pip install psycopg psycopg[binary] pipenv jupyter ipykernel ipywidgets"
   ]
  },
  {
   "cell_type": "code",
   "execution_count": 3,
   "id": "7a942a4e",
   "metadata": {},
   "outputs": [
    {
     "name": "stdout",
     "output_type": "stream",
     "text": [
      "Overwriting requirements.txt\n"
     ]
    }
   ],
   "source": [
    "%%writefile requirements.txt \n",
    "# To get started with MLflow you'll need to install the appropriate Python package.\n",
    "\n",
    "# for parquet file\n",
    "pyarrow\n",
    "fastparquet\n",
    "# orjson is a fast, correct JSON library\n",
    "orjson\n",
    "numpy\n",
    "pandas\n",
    "matplotlib\n",
    "seaborn\n",
    "scipy\n",
    "tqdm\n",
    "joblib\n",
    "\n",
    "# ML Model packages\n",
    "scikit-learn\n",
    "xgboost\n",
    "optuna\n",
    "hyperopt\n",
    "\n",
    "# MLOPS experiment-tracking Packages\n",
    "mlflow\n",
    "wandb\n",
    "\n",
    "# MLOPS Orchestration Packages\n",
    "boto3\n",
    "prefect\n",
    "prefect-aws\n",
    "prefect-email\n",
    "\n",
    "# MLOPS Monitoring Packages\n",
    "evidently\n",
    "psycopg\n",
    "psycopg[binary]\n",
    "\n",
    "# Optionally\n",
    "requests\n",
    "# for py file parameter\n",
    "click\n",
    "# for code style\n",
    "black\n",
    "\n",
    "# Optionally\n",
    "jupyter\n",
    "ipykernel\n",
    "ipywidgets\n",
    "pipenv"
   ]
  },
  {
   "cell_type": "code",
   "execution_count": 4,
   "id": "63eff564",
   "metadata": {},
   "outputs": [
    {
     "name": "stdout",
     "output_type": "stream",
     "text": [
      "Platform: Windows\n",
      "Python  : 3.10.12\n",
      "Actv Env: lin-reg\n"
     ]
    }
   ],
   "source": [
    "import os, sys, platform, IPython.display\n",
    "\n",
    "# pip install --no-deps --no-index --force-reinstall --no-cache-dir --user\n",
    "# !{sys.executable} -m pip install -Uq -r requirements.txt --no-cache-dir --user\n",
    "# !jupyter nbextension enable --py widgetsnbextension\n",
    "\n",
    "# IPython.display.clear_output()\n",
    "print(\"Platform:\", platform.system())  # platform.platform()\n",
    "print(\"Python  :\", platform.python_version())  # sys.version\n",
    "print(\"Actv Env:\", os.getenv('CONDA_DEFAULT_ENV', 'Not Found Conda Env'))"
   ]
  },
  {
   "cell_type": "code",
   "execution_count": 116,
   "id": "6fe8272b",
   "metadata": {},
   "outputs": [],
   "source": [
    "import warnings\n",
    "# Filter out FutureWarnings\n",
    "# warnings.simplefilter(action='ignore', category=FutureWarning)\n",
    "# warnings.filterwarnings(action=\"ignore\", message=\"FutureWarning: is_categorical_dtype*\")\n",
    "warnings.filterwarnings(action=\"ignore\", module=\"seaborn\", category=FutureWarning, message='(is_categorical_dtype is deprecated)')\n",
    "warnings.filterwarnings(action=\"ignore\", module=\"seaborn\", category=FutureWarning, message='(use_inf_as_na option is deprecated)')\n",
    "warnings.filterwarnings(action=\"ignore\", module=\"sklearn\", category=FutureWarning, message='(is_sparse is deprecated)')\n",
    "warnings.filterwarnings(action=\"ignore\", module=\"xgboost\", category=FutureWarning, message='(is_sparse is deprecated)')"
   ]
  },
  {
   "cell_type": "code",
   "execution_count": 117,
   "id": "81ffeeb2",
   "metadata": {},
   "outputs": [
    {
     "data": {
      "text/plain": [
       "105"
      ]
     },
     "execution_count": 117,
     "metadata": {},
     "output_type": "execute_result"
    }
   ],
   "source": [
    "import numpy as np\n",
    "import pandas as pd\n",
    "import matplotlib as mpl\n",
    "import matplotlib.pyplot as plt\n",
    "import seaborn as sns\n",
    "\n",
    "# import scipy\n",
    "# from scipy.sparse import hstack\n",
    "# from scipy.stats import stats\n",
    "from scipy.stats import skew, norm, gamma, probplot\n",
    "import statsmodels.api as sm\n",
    "\n",
    "from sklearn.feature_extraction import DictVectorizer\n",
    "from sklearn.preprocessing import OneHotEncoder\n",
    "# from sklearn.preprocessing import StandardScaler, MinMaxScaler, RobustScaler\n",
    "# from sklearn.linear_model import LinearRegression\n",
    "# from sklearn.linear_model import ElasticNet, Lasso, LassoCV, Ridge, RidgeCV\n",
    "# from sklearn.svm import LinearSVR\n",
    "from sklearn.tree import DecisionTreeRegressor\n",
    "from sklearn.ensemble import RandomForestRegressor\n",
    "# from sklearn.ensemble import GradientBoostingRegressor, ExtraTreesRegressor\n",
    "\n",
    "from sklearn.metrics import mean_squared_error, mean_absolute_error, r2_score\n",
    "# from sklearn.model_selection import GridSearchCV\n",
    "\n",
    "import xgboost as xgb\n",
    "import optuna\n",
    "from hyperopt import fmin, tpe, hp, STATUS_OK, Trials\n",
    "from hyperopt.pyll import scope\n",
    "\n",
    "import os\n",
    "import sys\n",
    "import pickle\n",
    "import zipfile\n",
    "# import boto3\n",
    "# import click\n",
    "# import pathlib\n",
    "# import argparse\n",
    "# import requests\n",
    "# import urllib.request\n",
    "from glob import glob\n",
    "# from tqdm import tqdm           # console-based\n",
    "# from tqdm.notebook import tqdm  # jupyter-based\n",
    "from tqdm.auto import tqdm        # automatically selects\n",
    "# tqdm._instances.clear()\n",
    "# Import joblib for model persistence\n",
    "# from joblib import load, dump\n",
    "\n",
    "# memory management performs garbage collection \n",
    "import gc\n",
    "gc.collect()"
   ]
  },
  {
   "cell_type": "code",
   "execution_count": 28,
   "id": "712925f8",
   "metadata": {},
   "outputs": [
    {
     "name": "stdout",
     "output_type": "stream",
     "text": [
      "-----\n",
      "hyperopt            0.2.7\n",
      "matplotlib          3.7.2\n",
      "numpy               1.25.2\n",
      "optuna              3.3.0\n",
      "pandas              2.1.0\n",
      "scipy               1.11.2\n",
      "seaborn             0.12.2\n",
      "session_info        1.0.0\n",
      "sklearn             1.2.2\n",
      "statsmodels         0.14.0\n",
      "tqdm                4.66.1\n",
      "-----\n",
      "IPython             8.12.0\n",
      "jupyter_client      7.4.9\n",
      "jupyter_core        5.3.0\n",
      "jupyterlab          3.6.3\n",
      "notebook            6.5.4\n",
      "-----\n",
      "Python 3.10.12 | packaged by Anaconda, Inc. | (main, Jul  5 2023, 19:09:20) [MSC v.1916 64 bit (AMD64)]\n",
      "Windows-10-10.0.22621-SP0\n",
      "-----\n",
      "Session information updated at 2023-10-23 23:41\n"
     ]
    }
   ],
   "source": [
    "# !pip install session_info\n",
    "import session_info\n",
    "session_info.show(html=False)"
   ]
  },
  {
   "cell_type": "code",
   "execution_count": 29,
   "id": "e78613e6",
   "metadata": {},
   "outputs": [],
   "source": [
    "import os\n",
    "# Get the current working directory\n",
    "# current_dir = os.getcwd()\n",
    "\n",
    "# Create a new directory for storing data\n",
    "# os.makedirs('./pycode', exist_ok=True)\n",
    "# os.makedirs('./data', exist_ok=True)\n",
    "os.makedirs('./output', exist_ok=True)\n",
    "os.makedirs('./model', exist_ok=True)"
   ]
  },
  {
   "cell_type": "markdown",
   "id": "cb564b98",
   "metadata": {},
   "source": [
    "<div style=\"letter-spacing:normal; opacity:1.;\">\n",
    "  <h1 style=\"text-align:center; background-color: lightsalmon; color: Jaguar; border-radius:10px; font-family:monospace; border-radius:20px;\n",
    "            line-height:1.4; font-size:32px; font-weight:bold; text-transform: uppercase; padding: 9px;\">\n",
    "            <strong>2. Recognizing and Understanding Data</strong></h1>   \n",
    "</div>"
   ]
  },
  {
   "cell_type": "markdown",
   "id": "fada2c5e",
   "metadata": {},
   "source": [
    "## Downloading the data\n",
    "\n",
    "Here's a wget-able [link](https://raw.githubusercontent.com/alexeygrigorev/datasets/master/housing.csv):\n",
    "\n",
    "```bash\n",
    "wget https://raw.githubusercontent.com/alexeygrigorev/datasets/master/housing.csv\n",
    "```"
   ]
  },
  {
   "cell_type": "markdown",
   "id": "ebb5b120",
   "metadata": {},
   "source": [
    "### Ingest Data [wget](https://linuxways.net/centos/linux-wget-command-with-examples/) or [curl](https://daniel.haxx.se/blog/2020/09/10/store-the-curl-output-over-there/)"
   ]
  },
  {
   "cell_type": "code",
   "execution_count": 30,
   "id": "7e2a3fc1",
   "metadata": {},
   "outputs": [],
   "source": [
    "# Download the data\n",
    "!curl -s -O --create-dirs --output-dir \"./data\" https://raw.githubusercontent.com/alexeygrigorev/datasets/master/housing.csv"
   ]
  },
  {
   "cell_type": "code",
   "execution_count": 31,
   "id": "044ce591",
   "metadata": {},
   "outputs": [
    {
     "data": {
      "text/plain": [
       "['data\\\\housing.csv']"
      ]
     },
     "execution_count": 31,
     "metadata": {},
     "output_type": "execute_result"
    }
   ],
   "source": [
    "glob('data/*.*')"
   ]
  },
  {
   "cell_type": "code",
   "execution_count": 32,
   "id": "c9984fe2",
   "metadata": {},
   "outputs": [],
   "source": [
    "# Read the data\n",
    "csv_filename = 'housing.csv'\n",
    "csv_filepath = f'data/{csv_filename}'\n",
    "\n",
    "# Read the CSV file\n",
    "train_df = pd.read_csv(csv_filepath, low_memory=False)"
   ]
  },
  {
   "cell_type": "code",
   "execution_count": 33,
   "id": "bf1e3f04",
   "metadata": {},
   "outputs": [
    {
     "name": "stdout",
     "output_type": "stream",
     "text": [
      "Shape of DataFrame: (20640, 10)\n"
     ]
    },
    {
     "data": {
      "text/html": [
       "<div>\n",
       "<style scoped>\n",
       "    .dataframe tbody tr th:only-of-type {\n",
       "        vertical-align: middle;\n",
       "    }\n",
       "\n",
       "    .dataframe tbody tr th {\n",
       "        vertical-align: top;\n",
       "    }\n",
       "\n",
       "    .dataframe thead th {\n",
       "        text-align: right;\n",
       "    }\n",
       "</style>\n",
       "<table border=\"1\" class=\"dataframe\">\n",
       "  <thead>\n",
       "    <tr style=\"text-align: right;\">\n",
       "      <th></th>\n",
       "      <th>longitude</th>\n",
       "      <th>latitude</th>\n",
       "      <th>housing_median_age</th>\n",
       "      <th>total_rooms</th>\n",
       "      <th>total_bedrooms</th>\n",
       "      <th>population</th>\n",
       "      <th>households</th>\n",
       "      <th>median_income</th>\n",
       "      <th>median_house_value</th>\n",
       "      <th>ocean_proximity</th>\n",
       "    </tr>\n",
       "  </thead>\n",
       "  <tbody>\n",
       "    <tr>\n",
       "      <th>0</th>\n",
       "      <td>-122.23</td>\n",
       "      <td>37.88</td>\n",
       "      <td>41.0</td>\n",
       "      <td>880.0</td>\n",
       "      <td>129.0</td>\n",
       "      <td>322.0</td>\n",
       "      <td>126.0</td>\n",
       "      <td>8.3252</td>\n",
       "      <td>452600.0</td>\n",
       "      <td>NEAR BAY</td>\n",
       "    </tr>\n",
       "    <tr>\n",
       "      <th>1</th>\n",
       "      <td>-122.22</td>\n",
       "      <td>37.86</td>\n",
       "      <td>21.0</td>\n",
       "      <td>7099.0</td>\n",
       "      <td>1106.0</td>\n",
       "      <td>2401.0</td>\n",
       "      <td>1138.0</td>\n",
       "      <td>8.3014</td>\n",
       "      <td>358500.0</td>\n",
       "      <td>NEAR BAY</td>\n",
       "    </tr>\n",
       "    <tr>\n",
       "      <th>2</th>\n",
       "      <td>-122.24</td>\n",
       "      <td>37.85</td>\n",
       "      <td>52.0</td>\n",
       "      <td>1467.0</td>\n",
       "      <td>190.0</td>\n",
       "      <td>496.0</td>\n",
       "      <td>177.0</td>\n",
       "      <td>7.2574</td>\n",
       "      <td>352100.0</td>\n",
       "      <td>NEAR BAY</td>\n",
       "    </tr>\n",
       "    <tr>\n",
       "      <th>3</th>\n",
       "      <td>-122.25</td>\n",
       "      <td>37.85</td>\n",
       "      <td>52.0</td>\n",
       "      <td>1274.0</td>\n",
       "      <td>235.0</td>\n",
       "      <td>558.0</td>\n",
       "      <td>219.0</td>\n",
       "      <td>5.6431</td>\n",
       "      <td>341300.0</td>\n",
       "      <td>NEAR BAY</td>\n",
       "    </tr>\n",
       "    <tr>\n",
       "      <th>4</th>\n",
       "      <td>-122.25</td>\n",
       "      <td>37.85</td>\n",
       "      <td>52.0</td>\n",
       "      <td>1627.0</td>\n",
       "      <td>280.0</td>\n",
       "      <td>565.0</td>\n",
       "      <td>259.0</td>\n",
       "      <td>3.8462</td>\n",
       "      <td>342200.0</td>\n",
       "      <td>NEAR BAY</td>\n",
       "    </tr>\n",
       "  </tbody>\n",
       "</table>\n",
       "</div>"
      ],
      "text/plain": [
       "   longitude  latitude  housing_median_age  total_rooms  total_bedrooms  \\\n",
       "0    -122.23     37.88                41.0        880.0           129.0   \n",
       "1    -122.22     37.86                21.0       7099.0          1106.0   \n",
       "2    -122.24     37.85                52.0       1467.0           190.0   \n",
       "3    -122.25     37.85                52.0       1274.0           235.0   \n",
       "4    -122.25     37.85                52.0       1627.0           280.0   \n",
       "\n",
       "   population  households  median_income  median_house_value ocean_proximity  \n",
       "0       322.0       126.0         8.3252            452600.0        NEAR BAY  \n",
       "1      2401.0      1138.0         8.3014            358500.0        NEAR BAY  \n",
       "2       496.0       177.0         7.2574            352100.0        NEAR BAY  \n",
       "3       558.0       219.0         5.6431            341300.0        NEAR BAY  \n",
       "4       565.0       259.0         3.8462            342200.0        NEAR BAY  "
      ]
     },
     "execution_count": 33,
     "metadata": {},
     "output_type": "execute_result"
    }
   ],
   "source": [
    "print(\"Shape of DataFrame:\", train_df.shape)\n",
    "train_df.head()"
   ]
  },
  {
   "cell_type": "code",
   "execution_count": 34,
   "id": "6e9f1c01",
   "metadata": {},
   "outputs": [
    {
     "name": "stdout",
     "output_type": "stream",
     "text": [
      "<class 'pandas.core.frame.DataFrame'>\n",
      "RangeIndex: 20640 entries, 0 to 20639\n",
      "Data columns (total 10 columns):\n",
      " #   Column              Non-Null Count  Dtype  \n",
      "---  ------              --------------  -----  \n",
      " 0   longitude           20640 non-null  float64\n",
      " 1   latitude            20640 non-null  float64\n",
      " 2   housing_median_age  20640 non-null  float64\n",
      " 3   total_rooms         20640 non-null  float64\n",
      " 4   total_bedrooms      20433 non-null  float64\n",
      " 5   population          20640 non-null  float64\n",
      " 6   households          20640 non-null  float64\n",
      " 7   median_income       20640 non-null  float64\n",
      " 8   median_house_value  20640 non-null  float64\n",
      " 9   ocean_proximity     20640 non-null  object \n",
      "dtypes: float64(9), object(1)\n",
      "memory usage: 1.6+ MB\n"
     ]
    }
   ],
   "source": [
    "train_df.info()"
   ]
  },
  {
   "cell_type": "code",
   "execution_count": 35,
   "id": "4bce096c",
   "metadata": {},
   "outputs": [
    {
     "data": {
      "text/html": [
       "<div>\n",
       "<style scoped>\n",
       "    .dataframe tbody tr th:only-of-type {\n",
       "        vertical-align: middle;\n",
       "    }\n",
       "\n",
       "    .dataframe tbody tr th {\n",
       "        vertical-align: top;\n",
       "    }\n",
       "\n",
       "    .dataframe thead th {\n",
       "        text-align: right;\n",
       "    }\n",
       "</style>\n",
       "<table border=\"1\" class=\"dataframe\">\n",
       "  <thead>\n",
       "    <tr style=\"text-align: right;\">\n",
       "      <th></th>\n",
       "      <th>count</th>\n",
       "      <th>mean</th>\n",
       "      <th>std</th>\n",
       "      <th>min</th>\n",
       "      <th>25%</th>\n",
       "      <th>50%</th>\n",
       "      <th>75%</th>\n",
       "      <th>max</th>\n",
       "    </tr>\n",
       "  </thead>\n",
       "  <tbody>\n",
       "    <tr>\n",
       "      <th>longitude</th>\n",
       "      <td>20640.0</td>\n",
       "      <td>-119.569704</td>\n",
       "      <td>2.003532</td>\n",
       "      <td>-124.3500</td>\n",
       "      <td>-121.8000</td>\n",
       "      <td>-118.4900</td>\n",
       "      <td>-118.01000</td>\n",
       "      <td>-114.3100</td>\n",
       "    </tr>\n",
       "    <tr>\n",
       "      <th>latitude</th>\n",
       "      <td>20640.0</td>\n",
       "      <td>35.631861</td>\n",
       "      <td>2.135952</td>\n",
       "      <td>32.5400</td>\n",
       "      <td>33.9300</td>\n",
       "      <td>34.2600</td>\n",
       "      <td>37.71000</td>\n",
       "      <td>41.9500</td>\n",
       "    </tr>\n",
       "    <tr>\n",
       "      <th>housing_median_age</th>\n",
       "      <td>20640.0</td>\n",
       "      <td>28.639486</td>\n",
       "      <td>12.585558</td>\n",
       "      <td>1.0000</td>\n",
       "      <td>18.0000</td>\n",
       "      <td>29.0000</td>\n",
       "      <td>37.00000</td>\n",
       "      <td>52.0000</td>\n",
       "    </tr>\n",
       "    <tr>\n",
       "      <th>total_rooms</th>\n",
       "      <td>20640.0</td>\n",
       "      <td>2635.763081</td>\n",
       "      <td>2181.615252</td>\n",
       "      <td>2.0000</td>\n",
       "      <td>1447.7500</td>\n",
       "      <td>2127.0000</td>\n",
       "      <td>3148.00000</td>\n",
       "      <td>39320.0000</td>\n",
       "    </tr>\n",
       "    <tr>\n",
       "      <th>total_bedrooms</th>\n",
       "      <td>20433.0</td>\n",
       "      <td>537.870553</td>\n",
       "      <td>421.385070</td>\n",
       "      <td>1.0000</td>\n",
       "      <td>296.0000</td>\n",
       "      <td>435.0000</td>\n",
       "      <td>647.00000</td>\n",
       "      <td>6445.0000</td>\n",
       "    </tr>\n",
       "    <tr>\n",
       "      <th>population</th>\n",
       "      <td>20640.0</td>\n",
       "      <td>1425.476744</td>\n",
       "      <td>1132.462122</td>\n",
       "      <td>3.0000</td>\n",
       "      <td>787.0000</td>\n",
       "      <td>1166.0000</td>\n",
       "      <td>1725.00000</td>\n",
       "      <td>35682.0000</td>\n",
       "    </tr>\n",
       "    <tr>\n",
       "      <th>households</th>\n",
       "      <td>20640.0</td>\n",
       "      <td>499.539680</td>\n",
       "      <td>382.329753</td>\n",
       "      <td>1.0000</td>\n",
       "      <td>280.0000</td>\n",
       "      <td>409.0000</td>\n",
       "      <td>605.00000</td>\n",
       "      <td>6082.0000</td>\n",
       "    </tr>\n",
       "    <tr>\n",
       "      <th>median_income</th>\n",
       "      <td>20640.0</td>\n",
       "      <td>3.870671</td>\n",
       "      <td>1.899822</td>\n",
       "      <td>0.4999</td>\n",
       "      <td>2.5634</td>\n",
       "      <td>3.5348</td>\n",
       "      <td>4.74325</td>\n",
       "      <td>15.0001</td>\n",
       "    </tr>\n",
       "    <tr>\n",
       "      <th>median_house_value</th>\n",
       "      <td>20640.0</td>\n",
       "      <td>206855.816909</td>\n",
       "      <td>115395.615874</td>\n",
       "      <td>14999.0000</td>\n",
       "      <td>119600.0000</td>\n",
       "      <td>179700.0000</td>\n",
       "      <td>264725.00000</td>\n",
       "      <td>500001.0000</td>\n",
       "    </tr>\n",
       "  </tbody>\n",
       "</table>\n",
       "</div>"
      ],
      "text/plain": [
       "                      count           mean            std         min  \\\n",
       "longitude           20640.0    -119.569704       2.003532   -124.3500   \n",
       "latitude            20640.0      35.631861       2.135952     32.5400   \n",
       "housing_median_age  20640.0      28.639486      12.585558      1.0000   \n",
       "total_rooms         20640.0    2635.763081    2181.615252      2.0000   \n",
       "total_bedrooms      20433.0     537.870553     421.385070      1.0000   \n",
       "population          20640.0    1425.476744    1132.462122      3.0000   \n",
       "households          20640.0     499.539680     382.329753      1.0000   \n",
       "median_income       20640.0       3.870671       1.899822      0.4999   \n",
       "median_house_value  20640.0  206855.816909  115395.615874  14999.0000   \n",
       "\n",
       "                            25%          50%           75%          max  \n",
       "longitude             -121.8000    -118.4900    -118.01000    -114.3100  \n",
       "latitude                33.9300      34.2600      37.71000      41.9500  \n",
       "housing_median_age      18.0000      29.0000      37.00000      52.0000  \n",
       "total_rooms           1447.7500    2127.0000    3148.00000   39320.0000  \n",
       "total_bedrooms         296.0000     435.0000     647.00000    6445.0000  \n",
       "population             787.0000    1166.0000    1725.00000   35682.0000  \n",
       "households             280.0000     409.0000     605.00000    6082.0000  \n",
       "median_income            2.5634       3.5348       4.74325      15.0001  \n",
       "median_house_value  119600.0000  179700.0000  264725.00000  500001.0000  "
      ]
     },
     "execution_count": 35,
     "metadata": {},
     "output_type": "execute_result"
    }
   ],
   "source": [
    "train_df.describe().T"
   ]
  },
  {
   "cell_type": "code",
   "execution_count": 36,
   "id": "dc4b077f",
   "metadata": {},
   "outputs": [
    {
     "data": {
      "text/html": [
       "<div>\n",
       "<style scoped>\n",
       "    .dataframe tbody tr th:only-of-type {\n",
       "        vertical-align: middle;\n",
       "    }\n",
       "\n",
       "    .dataframe tbody tr th {\n",
       "        vertical-align: top;\n",
       "    }\n",
       "\n",
       "    .dataframe thead th {\n",
       "        text-align: right;\n",
       "    }\n",
       "</style>\n",
       "<table border=\"1\" class=\"dataframe\">\n",
       "  <thead>\n",
       "    <tr style=\"text-align: right;\">\n",
       "      <th></th>\n",
       "      <th>count</th>\n",
       "      <th>unique</th>\n",
       "      <th>top</th>\n",
       "      <th>freq</th>\n",
       "    </tr>\n",
       "  </thead>\n",
       "  <tbody>\n",
       "    <tr>\n",
       "      <th>ocean_proximity</th>\n",
       "      <td>20640</td>\n",
       "      <td>5</td>\n",
       "      <td>&lt;1H OCEAN</td>\n",
       "      <td>9136</td>\n",
       "    </tr>\n",
       "  </tbody>\n",
       "</table>\n",
       "</div>"
      ],
      "text/plain": [
       "                 count unique        top  freq\n",
       "ocean_proximity  20640      5  <1H OCEAN  9136"
      ]
     },
     "execution_count": 36,
     "metadata": {},
     "output_type": "execute_result"
    }
   ],
   "source": [
    "train_df.describe(include='O').T"
   ]
  },
  {
   "cell_type": "markdown",
   "id": "4ba31fa3",
   "metadata": {},
   "source": [
    "<div style=\"letter-spacing:normal; opacity:1.;\">\n",
    "  <h1 style=\"text-align:center; background-color: lightsalmon; color: Jaguar; border-radius:10px; font-family:monospace; border-radius:20px;\n",
    "            line-height:1.4; font-size:32px; font-weight:bold; text-transform: uppercase; padding: 9px;\">\n",
    "            <strong>3. Exloratory Data Analysis</strong></h1>   \n",
    "</div>"
   ]
  },
  {
   "cell_type": "markdown",
   "id": "d3997711",
   "metadata": {},
   "source": [
    "## Preparing the dataset \n",
    "\n",
    "For this homework, we only want to use a subset of data. This is the same subset we used in homework #2.\n",
    "\n",
    "But in contrast to homework #2, we are going to use all columns of the dataset.\n",
    "\n",
    "First, keep only the records where `ocean_proximity` is either `'<1H OCEAN'` or `'INLAND'`\n",
    "\n",
    "Preparation:\n",
    "\n",
    "* Fill missing values with zeros.\n",
    "* Apply the log transform to `median_house_value`.\n",
    "* Do train/validation/test split with 60%/20%/20% distribution. \n",
    "* Use the `train_test_split` function and set the `random_state` parameter to 1.\n",
    "* Use `DictVectorizer(sparse=True)` to turn the dataframes into matrices."
   ]
  },
  {
   "cell_type": "code",
   "execution_count": 37,
   "id": "e4a8212d",
   "metadata": {},
   "outputs": [
    {
     "data": {
      "text/plain": [
       "(15687, 10)"
      ]
     },
     "execution_count": 37,
     "metadata": {},
     "output_type": "execute_result"
    }
   ],
   "source": [
    "# Filter the DataFrame to keep only the desired 'ocean_proximity' values\n",
    "filtered_df = train_df[train_df['ocean_proximity'].isin(['<1H OCEAN', 'INLAND'])]\n",
    "filtered_df.shape"
   ]
  },
  {
   "cell_type": "code",
   "execution_count": 38,
   "id": "8bd356bc",
   "metadata": {},
   "outputs": [
    {
     "data": {
      "text/plain": [
       "longitude             0\n",
       "latitude              0\n",
       "housing_median_age    0\n",
       "total_rooms           0\n",
       "total_bedrooms        0\n",
       "population            0\n",
       "households            0\n",
       "median_income         0\n",
       "median_house_value    0\n",
       "ocean_proximity       0\n",
       "dtype: int64"
      ]
     },
     "execution_count": 38,
     "metadata": {},
     "output_type": "execute_result"
    }
   ],
   "source": [
    "# Now, for step 2, fill missing values with zeros:\n",
    "filtered_df = filtered_df.fillna(0)\n",
    "filtered_df.isna().sum()"
   ]
  },
  {
   "cell_type": "code",
   "execution_count": 39,
   "id": "aff0dcfa",
   "metadata": {},
   "outputs": [
    {
     "data": {
      "image/png": "[encoded data removed]",
      "text/plain": [
       "<Figure size 640x480 with 1 Axes>"
      ]
     },
     "metadata": {},
     "output_type": "display_data"
    }
   ],
   "source": [
    "train_df['median_house_value'].plot(kind='hist');"
   ]
  },
  {
   "cell_type": "code",
   "execution_count": 40,
   "id": "3f380fcc",
   "metadata": {},
   "outputs": [
    {
     "data": {
      "image/png": "[encoded data removed]",
      "text/plain": [
       "<Figure size 640x480 with 1 Axes>"
      ]
     },
     "metadata": {},
     "output_type": "display_data"
    }
   ],
   "source": [
    "# For step 3, apply the log transform to median_house_value:\n",
    "filtered_df['median_house_value'] = np.log(filtered_df['median_house_value'])\n",
    "filtered_df['median_house_value'].plot(kind='hist');"
   ]
  },
  {
   "cell_type": "code",
   "execution_count": 41,
   "id": "fb7063c0",
   "metadata": {},
   "outputs": [
    {
     "data": {
      "text/plain": [
       "((9411, 9), (9411,), (3138, 9), (3138,), (3138, 9), (3138,))"
      ]
     },
     "execution_count": 41,
     "metadata": {},
     "output_type": "execute_result"
    }
   ],
   "source": [
    "# For step 4, perform the train/validation/test split:\n",
    "from sklearn.model_selection import train_test_split\n",
    "\n",
    "# Define features and target variable\n",
    "X = filtered_df.drop('median_house_value', axis=1)\n",
    "y = filtered_df['median_house_value']\n",
    "\n",
    "# Split the data into train, validation, and test sets\n",
    "X_full_train, X_test, y_full_train, y_test = train_test_split(X, y, test_size=0.2, random_state=1)\n",
    "X_train, X_val, y_train, y_val = train_test_split(X_full_train, y_full_train, test_size=0.25, random_state=1)\n",
    "\n",
    "X_train.shape, y_train.shape, X_val.shape, y_val.shape, X_test.shape, y_test.shape, "
   ]
  },
  {
   "cell_type": "code",
   "execution_count": 42,
   "id": "960f6d43",
   "metadata": {},
   "outputs": [
    {
     "name": "stdout",
     "output_type": "stream",
     "text": [
      "number of columns: 10\n"
     ]
    }
   ],
   "source": [
    "# Finally, for step 5, use DictVectorizer(sparse=True):\n",
    "from sklearn.feature_extraction import DictVectorizer\n",
    "\n",
    "dv = DictVectorizer(sparse=True)\n",
    "X_train_matrix = dv.fit_transform(X_train.to_dict(orient='records'))\n",
    "X_val_matrix = dv.transform(X_val.to_dict(orient='records'))\n",
    "X_test_matrix = dv.transform(X_test.to_dict(orient='records'))\n",
    "\n",
    "# Get the dimensionality of the feature matrix\n",
    "num_columns = X_train_matrix.shape[1]\n",
    "\n",
    "# Display the dimensionality\n",
    "print(\"number of columns:\", num_columns)"
   ]
  },
  {
   "cell_type": "code",
   "execution_count": 43,
   "id": "40c09b9b",
   "metadata": {},
   "outputs": [],
   "source": [
    "with open(\"model/dv_v1.pkl\", \"wb\") as f_out:\n",
    "    pickle.dump(dv, f_out)"
   ]
  },
  {
   "cell_type": "code",
   "execution_count": 44,
   "id": "cdbc3b2d",
   "metadata": {},
   "outputs": [
    {
     "data": {
      "text/html": [
       "<div>\n",
       "<style scoped>\n",
       "    .dataframe tbody tr th:only-of-type {\n",
       "        vertical-align: middle;\n",
       "    }\n",
       "\n",
       "    .dataframe tbody tr th {\n",
       "        vertical-align: top;\n",
       "    }\n",
       "\n",
       "    .dataframe thead th {\n",
       "        text-align: right;\n",
       "    }\n",
       "</style>\n",
       "<table border=\"1\" class=\"dataframe\">\n",
       "  <thead>\n",
       "    <tr style=\"text-align: right;\">\n",
       "      <th></th>\n",
       "      <th>households</th>\n",
       "      <th>housing_median_age</th>\n",
       "      <th>latitude</th>\n",
       "      <th>longitude</th>\n",
       "      <th>median_income</th>\n",
       "      <th>ocean_proximity=&lt;1H OCEAN</th>\n",
       "      <th>ocean_proximity=INLAND</th>\n",
       "      <th>population</th>\n",
       "      <th>total_bedrooms</th>\n",
       "      <th>total_rooms</th>\n",
       "    </tr>\n",
       "  </thead>\n",
       "  <tbody>\n",
       "    <tr>\n",
       "      <th>0</th>\n",
       "      <td>68.0</td>\n",
       "      <td>13.0</td>\n",
       "      <td>37.93</td>\n",
       "      <td>-120.25</td>\n",
       "      <td>3.3750</td>\n",
       "      <td>0.0</td>\n",
       "      <td>1.0</td>\n",
       "      <td>196.0</td>\n",
       "      <td>76.0</td>\n",
       "      <td>493.0</td>\n",
       "    </tr>\n",
       "    <tr>\n",
       "      <th>1</th>\n",
       "      <td>268.0</td>\n",
       "      <td>10.0</td>\n",
       "      <td>34.00</td>\n",
       "      <td>-118.40</td>\n",
       "      <td>5.8083</td>\n",
       "      <td>1.0</td>\n",
       "      <td>0.0</td>\n",
       "      <td>705.0</td>\n",
       "      <td>339.0</td>\n",
       "      <td>1526.0</td>\n",
       "    </tr>\n",
       "    <tr>\n",
       "      <th>2</th>\n",
       "      <td>122.0</td>\n",
       "      <td>46.0</td>\n",
       "      <td>38.85</td>\n",
       "      <td>-121.67</td>\n",
       "      <td>1.7417</td>\n",
       "      <td>0.0</td>\n",
       "      <td>1.0</td>\n",
       "      <td>410.0</td>\n",
       "      <td>131.0</td>\n",
       "      <td>645.0</td>\n",
       "    </tr>\n",
       "    <tr>\n",
       "      <th>3</th>\n",
       "      <td>881.0</td>\n",
       "      <td>24.0</td>\n",
       "      <td>33.88</td>\n",
       "      <td>-118.14</td>\n",
       "      <td>2.6641</td>\n",
       "      <td>1.0</td>\n",
       "      <td>0.0</td>\n",
       "      <td>2085.0</td>\n",
       "      <td>982.0</td>\n",
       "      <td>3305.0</td>\n",
       "    </tr>\n",
       "    <tr>\n",
       "      <th>4</th>\n",
       "      <td>264.0</td>\n",
       "      <td>34.0</td>\n",
       "      <td>33.92</td>\n",
       "      <td>-118.11</td>\n",
       "      <td>4.1767</td>\n",
       "      <td>1.0</td>\n",
       "      <td>0.0</td>\n",
       "      <td>983.0</td>\n",
       "      <td>263.0</td>\n",
       "      <td>1414.0</td>\n",
       "    </tr>\n",
       "    <tr>\n",
       "      <th>...</th>\n",
       "      <td>...</td>\n",
       "      <td>...</td>\n",
       "      <td>...</td>\n",
       "      <td>...</td>\n",
       "      <td>...</td>\n",
       "      <td>...</td>\n",
       "      <td>...</td>\n",
       "      <td>...</td>\n",
       "      <td>...</td>\n",
       "      <td>...</td>\n",
       "    </tr>\n",
       "    <tr>\n",
       "      <th>9406</th>\n",
       "      <td>333.0</td>\n",
       "      <td>37.0</td>\n",
       "      <td>34.12</td>\n",
       "      <td>-118.00</td>\n",
       "      <td>3.9219</td>\n",
       "      <td>0.0</td>\n",
       "      <td>1.0</td>\n",
       "      <td>928.0</td>\n",
       "      <td>325.0</td>\n",
       "      <td>1340.0</td>\n",
       "    </tr>\n",
       "    <tr>\n",
       "      <th>9407</th>\n",
       "      <td>617.0</td>\n",
       "      <td>34.0</td>\n",
       "      <td>34.10</td>\n",
       "      <td>-118.10</td>\n",
       "      <td>2.3400</td>\n",
       "      <td>1.0</td>\n",
       "      <td>0.0</td>\n",
       "      <td>1628.0</td>\n",
       "      <td>645.0</td>\n",
       "      <td>2578.0</td>\n",
       "    </tr>\n",
       "    <tr>\n",
       "      <th>9408</th>\n",
       "      <td>551.0</td>\n",
       "      <td>26.0</td>\n",
       "      <td>34.01</td>\n",
       "      <td>-117.45</td>\n",
       "      <td>2.7600</td>\n",
       "      <td>0.0</td>\n",
       "      <td>1.0</td>\n",
       "      <td>1720.0</td>\n",
       "      <td>598.0</td>\n",
       "      <td>3042.0</td>\n",
       "    </tr>\n",
       "    <tr>\n",
       "      <th>9409</th>\n",
       "      <td>239.0</td>\n",
       "      <td>35.0</td>\n",
       "      <td>34.03</td>\n",
       "      <td>-117.94</td>\n",
       "      <td>4.0521</td>\n",
       "      <td>1.0</td>\n",
       "      <td>0.0</td>\n",
       "      <td>1015.0</td>\n",
       "      <td>249.0</td>\n",
       "      <td>1375.0</td>\n",
       "    </tr>\n",
       "    <tr>\n",
       "      <th>9410</th>\n",
       "      <td>245.0</td>\n",
       "      <td>25.0</td>\n",
       "      <td>36.80</td>\n",
       "      <td>-120.02</td>\n",
       "      <td>2.1618</td>\n",
       "      <td>0.0</td>\n",
       "      <td>1.0</td>\n",
       "      <td>1050.0</td>\n",
       "      <td>255.0</td>\n",
       "      <td>1270.0</td>\n",
       "    </tr>\n",
       "  </tbody>\n",
       "</table>\n",
       "<p>9411 rows × 10 columns</p>\n",
       "</div>"
      ],
      "text/plain": [
       "      households  housing_median_age  latitude  longitude  median_income  \\\n",
       "0           68.0                13.0     37.93    -120.25         3.3750   \n",
       "1          268.0                10.0     34.00    -118.40         5.8083   \n",
       "2          122.0                46.0     38.85    -121.67         1.7417   \n",
       "3          881.0                24.0     33.88    -118.14         2.6641   \n",
       "4          264.0                34.0     33.92    -118.11         4.1767   \n",
       "...          ...                 ...       ...        ...            ...   \n",
       "9406       333.0                37.0     34.12    -118.00         3.9219   \n",
       "9407       617.0                34.0     34.10    -118.10         2.3400   \n",
       "9408       551.0                26.0     34.01    -117.45         2.7600   \n",
       "9409       239.0                35.0     34.03    -117.94         4.0521   \n",
       "9410       245.0                25.0     36.80    -120.02         2.1618   \n",
       "\n",
       "      ocean_proximity=<1H OCEAN  ocean_proximity=INLAND  population  \\\n",
       "0                           0.0                     1.0       196.0   \n",
       "1                           1.0                     0.0       705.0   \n",
       "2                           0.0                     1.0       410.0   \n",
       "3                           1.0                     0.0      2085.0   \n",
       "4                           1.0                     0.0       983.0   \n",
       "...                         ...                     ...         ...   \n",
       "9406                        0.0                     1.0       928.0   \n",
       "9407                        1.0                     0.0      1628.0   \n",
       "9408                        0.0                     1.0      1720.0   \n",
       "9409                        1.0                     0.0      1015.0   \n",
       "9410                        0.0                     1.0      1050.0   \n",
       "\n",
       "      total_bedrooms  total_rooms  \n",
       "0               76.0        493.0  \n",
       "1              339.0       1526.0  \n",
       "2              131.0        645.0  \n",
       "3              982.0       3305.0  \n",
       "4              263.0       1414.0  \n",
       "...              ...          ...  \n",
       "9406           325.0       1340.0  \n",
       "9407           645.0       2578.0  \n",
       "9408           598.0       3042.0  \n",
       "9409           249.0       1375.0  \n",
       "9410           255.0       1270.0  \n",
       "\n",
       "[9411 rows x 10 columns]"
      ]
     },
     "execution_count": 44,
     "metadata": {},
     "output_type": "execute_result"
    }
   ],
   "source": [
    "# convert sparse matrix to pandas dataframe (dense matrix)\n",
    "pd.DataFrame.sparse.from_spmatrix(X_train_matrix, columns=dv.feature_names_)"
   ]
  },
  {
   "cell_type": "code",
   "execution_count": 45,
   "id": "cbd71f4a",
   "metadata": {},
   "outputs": [
    {
     "data": {
      "text/plain": [
       "(9411, 10)"
      ]
     },
     "execution_count": 45,
     "metadata": {},
     "output_type": "execute_result"
    }
   ],
   "source": [
    "from sklearn.preprocessing import OneHotEncoder\n",
    "from sklearn.compose import make_column_transformer\n",
    "\n",
    "transformer = make_column_transformer(\n",
    "    (OneHotEncoder(handle_unknown='ignore', sparse_output=True), X_train.select_dtypes('O').columns),\n",
    "    remainder = 'passthrough'\n",
    ")\n",
    "transformer.fit_transform(X_train).shape"
   ]
  },
  {
   "cell_type": "code",
   "execution_count": 46,
   "id": "49241864",
   "metadata": {},
   "outputs": [
    {
     "data": {
      "image/png": "[encoded data removed]",
      "text/plain": [
       "<Figure size 1200x400 with 1 Axes>"
      ]
     },
     "metadata": {},
     "output_type": "display_data"
    }
   ],
   "source": [
    "corr_by_label = pd.DataFrame.sparse.from_spmatrix(X_train_matrix, columns=dv.feature_names_).join(y_train).corr()['median_house_value'].sort_values()[:-1]\n",
    "\n",
    "plt.figure(figsize=(12,4))\n",
    "sns.barplot(x=corr_by_label, y=corr_by_label.index)\n",
    "\n",
    "plt.xticks(rotation=90)\n",
    "plt.tight_layout();"
   ]
  },
  {
   "cell_type": "markdown",
   "id": "9a8628a6",
   "metadata": {},
   "source": [
    "<div style=\"letter-spacing:normal; opacity:1.;\">\n",
    "  <h1 style=\"text-align:center; background-color: lightsalmon; color: Jaguar; border-radius:10px; font-family:monospace; border-radius:20px;\n",
    "            line-height:1.4; font-size:32px; font-weight:bold; text-transform: uppercase; padding: 9px;\">\n",
    "            <strong>5. Tree Based Model Training</strong></h1>   \n",
    "</div>"
   ]
  },
  {
   "cell_type": "markdown",
   "id": "01c71018",
   "metadata": {},
   "source": [
    "## Question 1\n",
    "\n",
    "Let's train a decision tree regressor to predict the `median_house_value` variable. \n",
    "\n",
    "* Train a model with `max_depth=1`.\n",
    "\n",
    "\n",
    "Which feature is used for splitting the data?\n",
    "\n",
    "* `ocean_proximity`\n",
    "* `total_rooms`\n",
    "* `latitude`\n",
    "* `population`"
   ]
  },
  {
   "cell_type": "code",
   "execution_count": 54,
   "id": "47b07bd6",
   "metadata": {},
   "outputs": [
    {
     "data": {
      "text/html": [
       "<style>#sk-container-id-2 {color: black;background-color: white;}#sk-container-id-2 pre{padding: 0;}#sk-container-id-2 div.sk-toggleable {background-color: white;}#sk-container-id-2 label.sk-toggleable__label {cursor: pointer;display: block;width: 100%;margin-bottom: 0;padding: 0.3em;box-sizing: border-box;text-align: center;}#sk-container-id-2 label.sk-toggleable__label-arrow:before {content: \"▸\";float: left;margin-right: 0.25em;color: #696969;}#sk-container-id-2 label.sk-toggleable__label-arrow:hover:before {color: black;}#sk-container-id-2 div.sk-estimator:hover label.sk-toggleable__label-arrow:before {color: black;}#sk-container-id-2 div.sk-toggleable__content {max-height: 0;max-width: 0;overflow: hidden;text-align: left;background-color: #f0f8ff;}#sk-container-id-2 div.sk-toggleable__content pre {margin: 0.2em;color: black;border-radius: 0.25em;background-color: #f0f8ff;}#sk-container-id-2 input.sk-toggleable__control:checked~div.sk-toggleable__content {max-height: 200px;max-width: 100%;overflow: auto;}#sk-container-id-2 input.sk-toggleable__control:checked~label.sk-toggleable__label-arrow:before {content: \"▾\";}#sk-container-id-2 div.sk-estimator input.sk-toggleable__control:checked~label.sk-toggleable__label {background-color: #d4ebff;}#sk-container-id-2 div.sk-label input.sk-toggleable__control:checked~label.sk-toggleable__label {background-color: #d4ebff;}#sk-container-id-2 input.sk-hidden--visually {border: 0;clip: rect(1px 1px 1px 1px);clip: rect(1px, 1px, 1px, 1px);height: 1px;margin: -1px;overflow: hidden;padding: 0;position: absolute;width: 1px;}#sk-container-id-2 div.sk-estimator {font-family: monospace;background-color: #f0f8ff;border: 1px dotted black;border-radius: 0.25em;box-sizing: border-box;margin-bottom: 0.5em;}#sk-container-id-2 div.sk-estimator:hover {background-color: #d4ebff;}#sk-container-id-2 div.sk-parallel-item::after {content: \"\";width: 100%;border-bottom: 1px solid gray;flex-grow: 1;}#sk-container-id-2 div.sk-label:hover label.sk-toggleable__label {background-color: #d4ebff;}#sk-container-id-2 div.sk-serial::before {content: \"\";position: absolute;border-left: 1px solid gray;box-sizing: border-box;top: 0;bottom: 0;left: 50%;z-index: 0;}#sk-container-id-2 div.sk-serial {display: flex;flex-direction: column;align-items: center;background-color: white;padding-right: 0.2em;padding-left: 0.2em;position: relative;}#sk-container-id-2 div.sk-item {position: relative;z-index: 1;}#sk-container-id-2 div.sk-parallel {display: flex;align-items: stretch;justify-content: center;background-color: white;position: relative;}#sk-container-id-2 div.sk-item::before, #sk-container-id-2 div.sk-parallel-item::before {content: \"\";position: absolute;border-left: 1px solid gray;box-sizing: border-box;top: 0;bottom: 0;left: 50%;z-index: -1;}#sk-container-id-2 div.sk-parallel-item {display: flex;flex-direction: column;z-index: 1;position: relative;background-color: white;}#sk-container-id-2 div.sk-parallel-item:first-child::after {align-self: flex-end;width: 50%;}#sk-container-id-2 div.sk-parallel-item:last-child::after {align-self: flex-start;width: 50%;}#sk-container-id-2 div.sk-parallel-item:only-child::after {width: 0;}#sk-container-id-2 div.sk-dashed-wrapped {border: 1px dashed gray;margin: 0 0.4em 0.5em 0.4em;box-sizing: border-box;padding-bottom: 0.4em;background-color: white;}#sk-container-id-2 div.sk-label label {font-family: monospace;font-weight: bold;display: inline-block;line-height: 1.2em;}#sk-container-id-2 div.sk-label-container {text-align: center;}#sk-container-id-2 div.sk-container {/* jupyter's `normalize.less` sets `[hidden] { display: none; }` but bootstrap.min.css set `[hidden] { display: none !important; }` so we also need the `!important` here to be able to override the default hidden behavior on the sphinx rendered scikit-learn.org. See: https://github.com/scikit-learn/scikit-learn/issues/21755 */display: inline-block !important;position: relative;}#sk-container-id-2 div.sk-text-repr-fallback {display: none;}</style><div id=\"sk-container-id-2\" class=\"sk-top-container\"><div class=\"sk-text-repr-fallback\"><pre>DecisionTreeRegressor(max_depth=1)</pre><b>In a Jupyter environment, please rerun this cell to show the HTML representation or trust the notebook. <br />On GitHub, the HTML representation is unable to render, please try loading this page with nbviewer.org.</b></div><div class=\"sk-container\" hidden><div class=\"sk-item\"><div class=\"sk-estimator sk-toggleable\"><input class=\"sk-toggleable__control sk-hidden--visually\" id=\"sk-estimator-id-2\" type=\"checkbox\" checked><label for=\"sk-estimator-id-2\" class=\"sk-toggleable__label sk-toggleable__label-arrow\">DecisionTreeRegressor</label><div class=\"sk-toggleable__content\"><pre>DecisionTreeRegressor(max_depth=1)</pre></div></div></div></div></div>"
      ],
      "text/plain": [
       "DecisionTreeRegressor(max_depth=1)"
      ]
     },
     "execution_count": 54,
     "metadata": {},
     "output_type": "execute_result"
    }
   ],
   "source": [
    "## Implemet Decision Tree Regressor\n",
    "from sklearn.tree import DecisionTreeRegressor\n",
    "\n",
    "# Create a decision tree regressor with max_depth=1\n",
    "dtr = DecisionTreeRegressor(max_depth=1)\n",
    "\n",
    "# Fit the model on the training data\n",
    "dtr.fit(X_train_matrix, y_train)"
   ]
  },
  {
   "cell_type": "code",
   "execution_count": 66,
   "id": "09039f9a",
   "metadata": {},
   "outputs": [],
   "source": [
    "with open('model/enc_dtr_model_v1.pkl', 'wb') as f_out:\n",
    "    pickle.dump((dv, dtr), f_out)"
   ]
  },
  {
   "cell_type": "code",
   "execution_count": 67,
   "id": "2f6d28ac",
   "metadata": {},
   "outputs": [
    {
     "name": "stdout",
     "output_type": "stream",
     "text": [
      "Feature used for splitting: ocean_proximity=INLAND\n"
     ]
    }
   ],
   "source": [
    "# Get the feature importances\n",
    "feature_importances = dtr.feature_importances_\n",
    "\n",
    "# Find the feature with the highest importance (the one used for splitting)\n",
    "feature_used_for_split = dv.feature_names_[np.argmax(feature_importances)]\n",
    "\n",
    "# Display the feature used for splitting\n",
    "print(\"Feature used for splitting:\", feature_used_for_split)"
   ]
  },
  {
   "cell_type": "code",
   "execution_count": 68,
   "id": "7e20a1c8",
   "metadata": {},
   "outputs": [
    {
     "data": {
      "image/png": "[encoded data removed]",
      "text/plain": [
       "<Figure size 800x550 with 1 Axes>"
      ]
     },
     "metadata": {},
     "output_type": "display_data"
    }
   ],
   "source": [
    "from yellowbrick.model_selection import FeatureImportances\n",
    "\n",
    "viz = FeatureImportances(estimator=dtr, labels=dv.feature_names_)\n",
    "# Fit and show the visualizer\n",
    "viz.fit(X=X_train_matrix, y=y_train)\n",
    "viz.show();"
   ]
  },
  {
   "cell_type": "markdown",
   "id": "37b83fb6",
   "metadata": {},
   "source": [
    "## Question 2\n",
    "\n",
    "Train a random forest model with these parameters:\n",
    "\n",
    "* `n_estimators=10`\n",
    "* `random_state=1`\n",
    "* `n_jobs=-1` (optional - to make training faster)\n",
    "\n",
    "\n",
    "What's the RMSE of this model on validation?\n",
    "\n",
    "* 0.045\n",
    "* 0.245\n",
    "* 0.545\n",
    "* 0.845"
   ]
  },
  {
   "cell_type": "code",
   "execution_count": 76,
   "id": "6722c0c6",
   "metadata": {},
   "outputs": [
    {
     "name": "stdout",
     "output_type": "stream",
     "text": [
      "RMSE on validation: 0.245\n"
     ]
    }
   ],
   "source": [
    "from sklearn.ensemble import RandomForestRegressor\n",
    "\n",
    "# Create a random forest regressor with the specified parameters\n",
    "rf_regressor = RandomForestRegressor(n_estimators=10, random_state=1, n_jobs=-1)\n",
    "\n",
    "# Train the model on the training data\n",
    "rf_regressor.fit(X_train_matrix, y_train)\n",
    "\n",
    "# Make predictions on the validation set\n",
    "y_val_pred = rf_regressor.predict(X_val_matrix)\n",
    "\n",
    "# Calculate RMSE\n",
    "rmse = mean_squared_error(y_val, y_val_pred, squared=False).round(3)\n",
    "\n",
    "# Display the RMSE\n",
    "print(\"RMSE on validation:\", rmse)"
   ]
  },
  {
   "cell_type": "markdown",
   "id": "9cb93ea0",
   "metadata": {},
   "source": [
    "## Question 3\n",
    "\n",
    "Now let's experiment with the `n_estimators` parameter\n",
    "\n",
    "* Try different values of this parameter from 10 to 200 with step 10.\n",
    "* Set `random_state` to `1`.\n",
    "* Evaluate the model on the validation dataset.\n",
    "\n",
    "\n",
    "After which value of `n_estimators` does RMSE stop improving?\n",
    "Consider 3 decimal places for retrieving the answer.\n",
    "\n",
    "- 10\n",
    "- 25\n",
    "- 50\n",
    "- 160"
   ]
  },
  {
   "cell_type": "code",
   "execution_count": 86,
   "id": "74e115f6",
   "metadata": {},
   "outputs": [
    {
     "name": "stdout",
     "output_type": "stream",
     "text": [
      "After which value of n_estimators does RMSE (0.2333272742529523) stop improving: 170\n"
     ]
    }
   ],
   "source": [
    "%%time\n",
    "\n",
    "# Define a range of n_estimators values to test\n",
    "n_estimators_values = range(10, 201, 10)\n",
    "\n",
    "# Initialize variables to keep track of the best RMSE and the corresponding n_estimators\n",
    "rmse_dic = {}\n",
    "best_rmse = float(\"inf\")\n",
    "best_n_estimators = None\n",
    "\n",
    "for n_estimators in n_estimators_values:\n",
    "    # Create a random forest regressor with the specified parameters\n",
    "    rf_regressor = RandomForestRegressor(n_estimators=n_estimators, random_state=1, n_jobs=-1)\n",
    "\n",
    "    # Train the model on the training data\n",
    "    rf_regressor.fit(X_train_matrix, y_train)\n",
    "\n",
    "    # Make predictions on the validation set\n",
    "    y_val_pred = rf_regressor.predict(X_val_matrix)\n",
    "\n",
    "    # Calculate RMSE\n",
    "    rmse = mean_squared_error(y_val, y_val_pred, squared=False)\n",
    "    rmse_dic[n_estimators] = rmse\n",
    "\n",
    "    # Check if this RMSE is better than the current best\n",
    "    if rmse < best_rmse:\n",
    "        best_rmse = rmse\n",
    "        best_n_estimators = n_estimators\n",
    "\n",
    "# Display the n_estimators after which RMSE stops improving\n",
    "print(f\"After which value of n_estimators does RMSE ({best_rmse}) stop improving: {best_n_estimators}\")"
   ]
  },
  {
   "cell_type": "code",
   "execution_count": 92,
   "id": "59bb8d58",
   "metadata": {},
   "outputs": [
    {
     "data": {
      "image/png": "[encoded data removed]",
      "text/plain": [
       "<Figure size 800x550 with 1 Axes>"
      ]
     },
     "metadata": {},
     "output_type": "display_data"
    }
   ],
   "source": [
    "plt.plot(rmse_dic.keys(), rmse_dic.values(), label='rmse')\n",
    "plt.xlabel('n_estimators')\n",
    "plt.ylabel('rmse')\n",
    "plt.legend()\n",
    "plt.show();"
   ]
  },
  {
   "cell_type": "markdown",
   "id": "d452f6b1",
   "metadata": {},
   "source": [
    "## Question 4\n",
    "\n",
    "Let's select the best `max_depth`:\n",
    "\n",
    "* Try different values of `max_depth`: `[10, 15, 20, 25]`\n",
    "* For each of these values,\n",
    "  * try different values of `n_estimators` from 10 till 200 (with step 10)\n",
    "  * calculate the mean RMSE \n",
    "* Fix the random seed: `random_state=1`\n",
    "\n",
    "\n",
    "What's the best `max_depth`, using the mean RMSE?\n",
    "\n",
    "* 10\n",
    "* 15\n",
    "* 20\n",
    "* 25"
   ]
  },
  {
   "cell_type": "code",
   "execution_count": 100,
   "id": "61bf5b77",
   "metadata": {},
   "outputs": [
    {
     "name": "stdout",
     "output_type": "stream",
     "text": [
      "Best max_depth using mean RMSE: 20\n",
      "CPU times: total: 2h 5min 17s\n",
      "Wall time: 20min 27s\n"
     ]
    }
   ],
   "source": [
    "%%time\n",
    "\n",
    "# Define the values of max_depth and n_estimators to test\n",
    "max_depth_values = [10, 15, 20, 25]\n",
    "n_estimators_values = range(10, 201, 10)\n",
    "\n",
    "# Initialize variables to keep track of the best max_depth and mean RMSE\n",
    "mean_rmse_dic = {}\n",
    "best_max_depth = None\n",
    "best_mean_rmse = float(\"inf\")\n",
    "\n",
    "for max_depth in max_depth_values:\n",
    "    mean_rmse = 0\n",
    "\n",
    "    for n_estimators in n_estimators_values:\n",
    "        # Create a random forest regressor with the specified parameters\n",
    "        rf_regressor = RandomForestRegressor(n_estimators=n_estimators, max_depth=max_depth, random_state=1, n_jobs=-1)\n",
    "\n",
    "        # Train the model on the training data\n",
    "        rf_regressor.fit(X_train_matrix, y_train)\n",
    "\n",
    "        # Make predictions on the validation set\n",
    "        y_val_pred = rf_regressor.predict(X_val_matrix)\n",
    "\n",
    "        # Calculate RMSE\n",
    "        rmse = np.sqrt(mean_squared_error(y_val, y_val_pred))\n",
    "        mean_rmse += rmse\n",
    "\n",
    "    # Calculate the mean RMSE for this max_depth\n",
    "    mean_rmse /= len(n_estimators_values)\n",
    "    mean_rmse_dic[max_depth] = mean_rmse\n",
    "\n",
    "    # Check if this mean RMSE is better than the current best\n",
    "    if mean_rmse < best_mean_rmse:\n",
    "        best_mean_rmse = mean_rmse\n",
    "        best_max_depth = max_depth\n",
    "\n",
    "# Display the best max_depth based on the mean RMSE\n",
    "print(f\"Best max_depth using mean RMSE: {best_max_depth}\")"
   ]
  },
  {
   "cell_type": "code",
   "execution_count": 101,
   "id": "01877acb",
   "metadata": {},
   "outputs": [
    {
     "data": {
      "image/png": "[encoded data removed]",
      "text/plain": [
       "<Figure size 800x550 with 1 Axes>"
      ]
     },
     "metadata": {},
     "output_type": "display_data"
    }
   ],
   "source": [
    "plt.plot(mean_rmse_dic.keys(), mean_rmse_dic.values(), label='mean_rmse')\n",
    "plt.xlabel('max_depth')\n",
    "plt.ylabel('mean_rmse')\n",
    "plt.legend()\n",
    "plt.show();"
   ]
  },
  {
   "cell_type": "markdown",
   "id": "1462bbc1",
   "metadata": {},
   "source": [
    "# Question 5\n",
    "\n",
    "We can extract feature importance information from tree-based models. \n",
    "\n",
    "At each step of the decision tree learning algorithm, it finds the best split. \n",
    "\n",
    "When doing it, we can calculate \"gain\" - the reduction in impurity before and after the split. \n",
    "\n",
    "This gain is quite useful in understanding what are the important features for tree-based models.\n",
    "\n",
    "In Scikit-Learn, tree-based models contain this information in the\n",
    "[`feature_importances_`](https://scikit-learn.org/stable/modules/generated/sklearn.ensemble.RandomForestRegressor.html#sklearn.ensemble.RandomForestRegressor.feature_importances_)\n",
    "field. \n",
    "\n",
    "For this homework question, we'll find the most important feature:\n",
    "\n",
    "* Train the model with these parameters:\n",
    "  * `n_estimators=10`,\n",
    "  * `max_depth=20`,\n",
    "  * `random_state=1`,\n",
    "  * `n_jobs=-1` (optional)\n",
    "* Get the feature importance information from this model\n",
    "\n",
    "\n",
    "What's the most important feature (among these 4)? \n",
    "\n",
    "* `total_rooms`\n",
    "* `median_income`\n",
    "* `total_bedrooms`\n",
    "* `longitude`"
   ]
  },
  {
   "cell_type": "code",
   "execution_count": 104,
   "id": "63728859",
   "metadata": {},
   "outputs": [
    {
     "name": "stdout",
     "output_type": "stream",
     "text": [
      "The most important feature is: ocean_proximity=INLAND\n"
     ]
    }
   ],
   "source": [
    "# Create a random forest regressor with the specified parameters\n",
    "rf_regressor = RandomForestRegressor(n_estimators=10, max_depth=20, random_state=1, n_jobs=-1)\n",
    "\n",
    "# Train the model on the training data\n",
    "rf_regressor.fit(X_train_matrix, y_train)\n",
    "\n",
    "# Get the feature importances\n",
    "feature_importances = rf_regressor.feature_importances_\n",
    "\n",
    "# Create a dictionary to map feature names to their importances\n",
    "feature_importance_dict = dict(zip(dv.feature_names_, feature_importances))\n",
    "\n",
    "# Find the most important feature\n",
    "most_important_feature = max(feature_importance_dict, key=feature_importance_dict.get)\n",
    "\n",
    "# Display the most important feature\n",
    "print(\"The most important feature is:\", most_important_feature)"
   ]
  },
  {
   "cell_type": "code",
   "execution_count": 107,
   "id": "f33b1c9f",
   "metadata": {},
   "outputs": [
    {
     "data": {
      "image/png": "[encoded data removed]",
      "text/plain": [
       "<Figure size 800x550 with 1 Axes>"
      ]
     },
     "metadata": {},
     "output_type": "display_data"
    }
   ],
   "source": [
    "from yellowbrick.model_selection import FeatureImportances\n",
    "\n",
    "viz = FeatureImportances(estimator=rf_regressor, labels=dv.feature_names_)\n",
    "# Fit and show the visualizer\n",
    "viz.fit(X=X_train_matrix, y=y_train)\n",
    "viz.show();"
   ]
  },
  {
   "cell_type": "markdown",
   "id": "1c2e2eb4",
   "metadata": {},
   "source": [
    "## Question 6\n",
    "\n",
    "Now let's train an XGBoost model! For this question, we'll tune the `eta` parameter:\n",
    "\n",
    "* Install XGBoost\n",
    "* Create DMatrix for train and validation\n",
    "* Create a watchlist\n",
    "* Train a model with these parameters for 100 rounds:\n",
    "\n",
    "```\n",
    "xgb_params = {\n",
    "    'eta': 0.3, \n",
    "    'max_depth': 6,\n",
    "    'min_child_weight': 1,\n",
    "    \n",
    "    'objective': 'reg:squarederror',\n",
    "    'nthread': 8,\n",
    "    \n",
    "    'seed': 1,\n",
    "    'verbosity': 1,\n",
    "}\n",
    "```\n",
    "\n",
    "Now change `eta` from `0.3` to `0.1`.\n",
    "\n",
    "Which eta leads to the best RMSE score on the validation dataset?\n",
    "\n",
    "* 0.3\n",
    "* 0.1\n",
    "* Both give equal value"
   ]
  },
  {
   "cell_type": "code",
   "execution_count": 114,
   "id": "28664a2a",
   "metadata": {},
   "outputs": [
    {
     "name": "stdout",
     "output_type": "stream",
     "text": [
      "eta rmse_01: 0.23123388171260645\n",
      "eta rmse_03: 0.22858748687039102\n",
      "The best eta is: 0.3\n"
     ]
    }
   ],
   "source": [
    "import xgboost as xgb\n",
    "\n",
    "# Create DMatrix for train and validation data\n",
    "dtrain = xgb.DMatrix(X_train_matrix, label=y_train)\n",
    "dval = xgb.DMatrix(X_val_matrix, label=y_val)\n",
    "\n",
    "# Create a watchlist for validation\n",
    "watchlist = [(dval, 'eval')]\n",
    "\n",
    "# Define the xgboost parameters with eta=0.3\n",
    "xgb_params_03 = {\n",
    "    'eta': 0.3, \n",
    "    'max_depth': 6,\n",
    "    'min_child_weight': 1,\n",
    "    'objective': 'reg:squarederror',\n",
    "    'nthread': 8,\n",
    "    'seed': 1,\n",
    "    'verbosity': 1,\n",
    "}\n",
    "\n",
    "# Define the xgboost parameters with eta=0.1\n",
    "xgb_params_01 = {\n",
    "    'eta': 0.1, \n",
    "    'max_depth': 6,\n",
    "    'min_child_weight': 1,\n",
    "    'objective': 'reg:squarederror',\n",
    "    'nthread': 8,\n",
    "    'seed': 1,\n",
    "    'verbosity': 1,\n",
    "}\n",
    "\n",
    "# Train XGBoost models with different eta values\n",
    "num_round = 100  # Number of rounds\n",
    "\n",
    "# Train with eta=0.3\n",
    "model_03 = xgb.train(xgb_params_03, dtrain, num_round, evals=watchlist, verbose_eval=False)\n",
    "\n",
    "# Train with eta=0.1\n",
    "model_01 = xgb.train(xgb_params_01, dtrain, num_round, evals=watchlist, verbose_eval=False)\n",
    "\n",
    "# Evaluate the models on the validation set\n",
    "rmse_03 = np.sqrt(mean_squared_error(y_val, model_03.predict(dval)))\n",
    "rmse_01 = np.sqrt(mean_squared_error(y_val, model_01.predict(dval)))\n",
    "\n",
    "# Compare the RMSE values for the two models\n",
    "if rmse_03 < rmse_01:\n",
    "    best_eta = 0.3\n",
    "elif rmse_01 < rmse_03:\n",
    "    best_eta = 0.1\n",
    "else:\n",
    "    best_eta = \"Both give equal value\"\n",
    "\n",
    "# Display the best eta\n",
    "print(\"eta rmse_01:\", rmse_01)\n",
    "print(\"eta rmse_03:\", rmse_03)\n",
    "print(\"The best eta is:\", best_eta)"
   ]
  },
  {
   "cell_type": "code",
   "execution_count": 120,
   "id": "096bef8c",
   "metadata": {},
   "outputs": [
    {
     "data": {
      "text/plain": [
       "99"
      ]
     },
     "execution_count": 120,
     "metadata": {},
     "output_type": "execute_result"
    }
   ],
   "source": [
    "model_03.best_iteration"
   ]
  },
  {
   "cell_type": "code",
   "execution_count": 122,
   "id": "1bc3f5a1",
   "metadata": {},
   "outputs": [],
   "source": [
    "# save to JSON\n",
    "model_03.save_model(\"model/xgb_model.json\")\n",
    "# save to text format\n",
    "model_03.save_model(\"model/xgb_model.txt\")"
   ]
  },
  {
   "cell_type": "code",
   "execution_count": 127,
   "id": "b850bd20",
   "metadata": {},
   "outputs": [
    {
     "data": {
      "text/plain": [
       "99"
      ]
     },
     "execution_count": 127,
     "metadata": {},
     "output_type": "execute_result"
    }
   ],
   "source": [
    "model_xgb = xgb.Booster()\n",
    "# model_xgb.load_model(\"model/xgb_model.json\")\n",
    "model_xgb.load_model(\"model/xgb_model.txt\")\n",
    "model_xgb.best_iteration"
   ]
  },
  {
   "cell_type": "code",
   "execution_count": 128,
   "id": "2111da90",
   "metadata": {},
   "outputs": [
    {
     "data": {
      "image/png": "[encoded data removed]",
      "text/plain": [
       "<Figure size 800x550 with 1 Axes>"
      ]
     },
     "metadata": {},
     "output_type": "display_data"
    }
   ],
   "source": [
    "# Create a histogram plot using seaborn with a kernel density estimate line\n",
    "sns.histplot(\n",
    "    np.exp(y_train),\n",
    "    stat=\"density\", kde=True,\n",
    "    bins='auto', discrete=False,\n",
    "    label='Actual', color='blue'\n",
    ")\n",
    "sns.histplot(\n",
    "    np.exp(model_03.predict(dval)),\n",
    "    stat=\"density\", kde=True,\n",
    "    bins='auto', discrete=False,\n",
    "    label='Prediction', color='orange'\n",
    ")\n",
    "\n",
    "# Set title and labels\n",
    "plt.title(\"Distribution of Label\")\n",
    "plt.xlabel(\"Prices\")\n",
    "\n",
    "# Display the legend and plot\n",
    "plt.legend()\n",
    "plt.show()"
   ]
  },
  {
   "cell_type": "markdown",
   "id": "5091e95e",
   "metadata": {},
   "source": [
    "> trying our open-source AutoML package: https://github.com/mljar/mljar-supervised\n",
    "\n",
    "- https://mljar.com/blog/xgboost-save-load-python/\n",
    "\n",
    "```py\n",
    "# With MLJAR you can train Xgboost with two lines of code:\n",
    "automl = AutoML(algorithms=[\"Xgboost\"])\n",
    "automl.fit(X,y)\n",
    "```"
   ]
  },
  {
   "cell_type": "markdown",
   "id": "eed7c4fd",
   "metadata": {},
   "source": [
    "## End of Project"
   ]
  }
 ],
 "metadata": {
  "kernelspec": {
   "display_name": "Python 3 (ipykernel)",
   "language": "python",
   "name": "python3"
  },
  "language_info": {
   "codemirror_mode": {
    "name": "ipython",
    "version": 3
   },
   "file_extension": ".py",
   "mimetype": "text/x-python",
   "name": "python",
   "nbconvert_exporter": "python",
   "pygments_lexer": "ipython3",
   "version": "3.10.12"
  },
  "toc": {
   "base_numbering": 1,
   "nav_menu": {},
   "number_sections": true,
   "sideBar": true,
   "skip_h1_title": false,
   "title_cell": "Table of Contents",
   "title_sidebar": "Contents",
   "toc_cell": false,
   "toc_position": {},
   "toc_section_display": true,
   "toc_window_display": false
  }
 },
 "nbformat": 4,
 "nbformat_minor": 5
}
